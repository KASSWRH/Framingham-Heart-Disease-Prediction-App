{
 "cells": [
  {
   "cell_type": "markdown",
   "metadata": {},
   "source": [
    "# تحليل بيانات دراسة فرامينغهام لأمراض القلب\n",
    "\n",
    "هذا الدفتر يعرض الخطوات الرئيسية لتحليل بيانات دراسة فرامينغهام للقلب وبناء نماذج للتنبؤ بخطر الإصابة بأمراض القلب."
   ]
  },
  {
   "cell_type": "markdown",
   "metadata": {},
   "source": [
    "## 1. استيراد المكتبات"
   ]
  },
  {
   "cell_type": "code",
   "execution_count": null,
   "metadata": {},
   "outputs": [],
   "source": [
    "# المكتبات الأساسية\n",
    "import pandas as pd\n",
    "import numpy as np\n",
    "import matplotlib.pyplot as plt\n",
    "import seaborn as sns\n",
    "\n",
    "# مكتبات للرسومات البيانية التفاعلية\n",
    "import plotly.express as px\n",
    "import plotly.graph_objects as go\n",
    "\n",
    "# مكتبات التعلم الآلي\n",
    "from sklearn.model_selection import train_test_split\n",
    "from sklearn.preprocessing import StandardScaler\n",
    "\n",
    "# نماذج التعلم الآلي\n",
    "from sklearn.linear_model import LogisticRegression\n",
    "from sklearn.ensemble import RandomForestClassifier, GradientBoostingClassifier, AdaBoostClassifier\n",
    "from sklearn.svm import SVC\n",
    "from sklearn.neighbors import KNeighborsClassifier\n",
    "\n",
    "# مقاييس التقييم\n",
    "from sklearn.metrics import accuracy_score, precision_score, recall_score, f1_score, roc_auc_score\n",
    "from sklearn.metrics import confusion_matrix, roc_curve, precision_recall_curve, average_precision_score\n",
    "\n",
    "# تنسيق الرسومات\n",
    "plt.style.use('seaborn-v0_8-whitegrid')\n",
    "sns.set_palette('viridis')\n",
    "plt.rcParams['figure.figsize'] = (12, 8)\n",
    "plt.rcParams['font.size'] = 12"
   ]
  },
  {
   "cell_type": "markdown",
   "metadata": {},
   "source": [
    "## 2. تحميل البيانات"
   ]
  },
  {
   "cell_type": "code",
   "execution_count": null,
   "metadata": {},
   "outputs": [],
   "source": [
    "# تحميل البيانات\n",
    "df = pd.read_csv('framingham_heart_study.csv')\n",
    "\n",
    "# عرض الأبعاد\n",
    "print(f\"أبعاد البيانات: {df.shape}\")"
   ]
  },
  {
   "cell_type": "markdown",
   "metadata": {},
   "source": [
    "## 3. استكشاف مبدئي للبيانات"
   ]
  },
  {
   "cell_type": "code",
   "execution_count": null,
   "metadata": {},
   "outputs": [],
   "source": [
    "# عرض أول 5 صفوف\n",
    "df.head()"
   ]
  },
  {
   "cell_type": "code",
   "execution_count": null,
   "metadata": {},
   "outputs": [],
   "source": [
    "# معلومات عامة عن البيانات\n",
    "df.info()"
   ]
  },
  {
   "cell_type": "code",
   "execution_count": null,
   "metadata": {},
   "outputs": [],
   "source": [
    "# إحصاءات وصفية\n",
    "df.describe().T"
   ]
  },
  {
   "cell_type": "code",
   "execution_count": null,
   "metadata": {},
   "outputs": [],
   "source": [
    "# تحليل القيم المفقودة\n",
    "print(\"عدد القيم المفقودة في كل عمود:\")\n",
    "print(df.isna().sum())\n",
    "print(f\"\\nإجمالي القيم المفقودة: {df.isna().sum().sum()}\")"
   ]
  },
  {
   "cell_type": "code",
   "execution_count": null,
   "metadata": {},
   "outputs": [],
   "source": [
    "# توزيع المتغير الهدف\n",
    "target_counts = df['has_heart_disease'].value_counts()\n",
    "print(\"توزيع حالات الإصابة بأمراض القلب:\")\n",
    "print(f\"لا يعاني من أمراض القلب (0): {target_counts.get(0, 0)}\")\n",
    "print(f\"يعاني من أمراض القلب (1): {target_counts.get(1, 0)}\")\n",
    "print(f\"نسبة الإصابة بأمراض القلب: {100 * target_counts.get(1, 0) / df.shape[0]:.2f}%\")"
   ]
  },
  {
   "cell_type": "markdown",
   "metadata": {},
   "source": [
    "## 4. تنظيف البيانات"
   ]
  },
  {
   "cell_type": "code",
   "execution_count": null,
   "metadata": {},
   "outputs": [],
   "source": [
    "# نسخة من البيانات للحفاظ على البيانات الأصلية\n",
    "df_clean = df.copy()\n",
    "\n",
    "# تحويل المتغير الهدف إلى int\n",
    "df_clean['has_heart_disease'] = df_clean['has_heart_disease'].astype(int)\n",
    "\n",
    "# معالجة القيم المفقودة\n",
    "# للمتغيرات العددية: استبدال بالوسيط\n",
    "numeric_cols = df_clean.select_dtypes(include=['float64', 'int64']).columns\n",
    "for col in numeric_cols:\n",
    "    df_clean[col] = df_clean[col].fillna(df_clean[col].median())\n",
    "\n",
    "# للمتغيرات الفئوية: استبدال بالقيمة الأكثر شيوعاً\n",
    "categorical_cols = df_clean.select_dtypes(include=['object']).columns\n",
    "for col in categorical_cols:\n",
    "    df_clean[col] = df_clean[col].fillna(df_clean[col].mode()[0])\n",
    "\n",
    "# التأكد من أن عمود education هو float إذا وجد\n",
    "if 'education' in df_clean.columns:\n",
    "    df_clean['education'] = df_clean['education'].fillna(0).astype(float)\n",
    "\n",
    "# التحقق من نجاح معالجة القيم المفقودة\n",
    "print(f\"إجمالي القيم المفقودة بعد التنظيف: {df_clean.isna().sum().sum()}\")"
   ]
  },
  {
   "cell_type": "markdown",
   "metadata": {},
   "source": [
    "## 5. تحليل بصري للبيانات"
   ]
  },
  {
   "cell_type": "markdown",
   "metadata": {},
   "source": [
    "### 5.1 مصفوفة الارتباط (Correlation Heatmap)"
   ]
  },
  {
   "cell_type": "code",
   "execution_count": null,
   "metadata": {},
   "outputs": [],
   "source": [
    "# حساب مصفوفة الارتباط\n",
    "corr_matrix = df_clean.select_dtypes(include=['float64', 'int64']).corr()\n",
    "\n",
    "# رسم مصفوفة الارتباط\n",
    "plt.figure(figsize=(16, 12))\n",
    "mask = np.triu(np.ones_like(corr_matrix))\n",
    "sns.heatmap(corr_matrix, annot=True, cmap='RdBu_r', mask=mask, fmt='.2f', linewidths=0.5)\n",
    "plt.title('مصفوفة الارتباط بين المتغيرات', fontsize=16)\n",
    "plt.tight_layout()\n",
    "plt.show()"
   ]
  },
  {
   "cell_type": "markdown",
   "metadata": {},
   "source": [
    "### 5.2 توزيع المتغيرات (Histograms)"
   ]
  },
  {
   "cell_type": "code",
   "execution_count": null,
   "metadata": {},
   "outputs": [],
   "source": [
    "# اختيار المتغيرات العددية باستثناء المتغير الهدف\n",
    "numeric_cols = df_clean.select_dtypes(include=['float64', 'int64']).columns.tolist()\n",
    "if 'has_heart_disease' in numeric_cols:\n",
    "    numeric_cols.remove('has_heart_disease')\n",
    "\n",
    "# رسم توزيع كل متغير حسب المتغير الهدف\n",
    "fig, axes = plt.subplots(nrows=4, ncols=4, figsize=(20, 15))\n",
    "axes = axes.flatten()\n",
    "\n",
    "for i, col in enumerate(numeric_cols):\n",
    "    if i < len(axes):\n",
    "        for target_val in [0, 1]:\n",
    "            sns.histplot(\n",
    "                data=df_clean[df_clean['has_heart_disease'] == target_val],\n",
    "                x=col,\n",
    "                bins=15,\n",
    "                alpha=0.5,\n",
    "                label=f'Heart Disease: {target_val}',\n",
    "                ax=axes[i]\n",
    "            )\n",
    "        axes[i].set_title(f'توزيع {col}')\n",
    "        axes[i].legend()\n",
    "\n",
    "# إزالة المحاور الفارغة\n",
    "for i in range(len(numeric_cols), len(axes)):\n",
    "    fig.delaxes(axes[i])\n",
    "\n",
    "plt.tight_layout()\n",
    "plt.show()"
   ]
  },
  {
   "cell_type": "markdown",
   "metadata": {},
   "source": [
    "### 5.3 المخططات الصندوقية (Boxplots)"
   ]
  },
  {
   "cell_type": "code",
   "execution_count": null,
   "metadata": {},
   "outputs": [],
   "source": [
    "# إنشاء مخططات صندوقية للمتغيرات العددية حسب المتغير الهدف\n",
    "fig, axes = plt.subplots(nrows=4, ncols=4, figsize=(20, 15))\n",
    "axes = axes.flatten()\n",
    "\n",
    "df_plot = df_clean.copy()\n",
    "df_plot['has_heart_disease'] = df_plot['has_heart_disease'].map({0: 'لا يوجد مرض قلب', 1: 'يوجد مرض قلب'})\n",
    "\n",
    "for i, col in enumerate(numeric_cols):\n",
    "    if i < len(axes):\n",
    "        sns.boxplot(\n",
    "            data=df_plot,\n",
    "            x='has_heart_disease',\n",
    "            y=col,\n",
    "            ax=axes[i]\n",
    "        )\n",
    "        axes[i].set_title(f'مخطط صندوقي لـ {col}')\n",
    "\n",
    "# إزالة المحاور الفارغة\n",
    "for i in range(len(numeric_cols), len(axes)):\n",
    "    fig.delaxes(axes[i])\n",
    "\n",
    "plt.tight_layout()\n",
    "plt.show()"
   ]
  },
  {
   "cell_type": "markdown",
   "metadata": {},
   "source": [
    "### 5.4 مخطط الأزواج (Pairplot)"
   ]
  },
  {
   "cell_type": "code",
   "execution_count": null,
   "metadata": {},
   "outputs": [],
   "source": [
    "# اختيار أهم المتغيرات فقط للمخطط الزوجي\n",
    "important_features = ['age', 'sysBP', 'BMI', 'glucose', 'totChol', 'has_heart_disease']\n",
    "df_important = df_clean[important_features].copy()\n",
    "\n",
    "# تحويل المتغير الهدف إلى نص للعرض\n",
    "df_important['has_heart_disease'] = df_important['has_heart_disease'].map({0: 'لا يوجد مرض قلب', 1: 'يوجد مرض قلب'})\n",
    "\n",
    "# رسم مخطط الأزواج\n",
    "pairplot = sns.pairplot(\n",
    "    data=df_important,\n",
    "    hue='has_heart_disease',\n",
    "    diag_kind='kde'\n",
    ")\n",
    "\n",
    "# إضافة عنوان\n",
    "pairplot.fig.suptitle('مخطط الأزواج للمتغيرات المهمة', y=1.02, fontsize=16)\n",
    "plt.show()"
   ]
  },
  {
   "cell_type": "markdown",
   "metadata": {},
   "source": [
    "## 6. تحضير البيانات للنمذجة"
   ]
  },
  {
   "cell_type": "code",
   "execution_count": null,
   "metadata": {},
   "outputs": [],
   "source": [
    "# فصل المتغيرات المستقلة عن المتغير الهدف\n",
    "X = df_clean.drop('has_heart_disease', axis=1)\n",
    "y = df_clean['has_heart_disease']\n",
    "\n",
    "# تسجيل أسماء المتغيرات للاستخدام لاحقاً\n",
    "feature_names = X.columns.tolist()\n",
    "\n",
    "# تقسيم البيانات إلى مجموعات تدريب واختبار\n",
    "X_train, X_test, y_train, y_test = train_test_split(\n",
    "    X, y, test_size=0.2, random_state=42, stratify=y\n",
    ")\n",
    "\n",
    "print(f\"أبعاد بيانات التدريب: {X_train.shape}\")\n",
    "print(f\"أبعاد بيانات الاختبار: {X_test.shape}\")\n",
    "\n",
    "# تقييس المتغيرات\n",
    "scaler = StandardScaler()\n",
    "X_train_scaled = scaler.fit_transform(X_train)\n",
    "X_test_scaled = scaler.transform(X_test)"
   ]
  },
  {
   "cell_type": "markdown",
   "metadata": {},
   "source": [
    "## 7. تعريف النماذج"
   ]
  },
  {
   "cell_type": "code",
   "execution_count": null,
   "metadata": {},
   "outputs": [],
   "source": [
    "# تعريف النماذج\n",
    "models = {\n",
    "    'الانحدار اللوجستي': LogisticRegression(max_iter=1000, random_state=42),\n",
    "    'الغابات العشوائية': RandomForestClassifier(n_estimators=100, random_state=42),\n",
    "    'تعزيز التدرج': GradientBoostingClassifier(n_estimators=100, random_state=42),\n",
    "    'آلة المتجه الداعم': SVC(probability=True, random_state=42),\n",
    "    'أقرب الجيران': KNeighborsClassifier(n_neighbors=5),\n",
    "    'آداببوست': AdaBoostClassifier(n_estimators=100, random_state=42)\n",
    "}"
   ]
  },
  {
   "cell_type": "markdown",
   "metadata": {},
   "source": [
    "## 8. تدريب النماذج وتقييم الأداء"
   ]
  },
  {
   "cell_type": "code",
   "execution_count": null,
   "metadata": {},
   "outputs": [],
   "source": [
    "# قاموس لتخزين نتائج النماذج\n",
    "models_results = {}\n",
    "\n",
    "# تدريب وتقييم كل نموذج\n",
    "for name, model in models.items():\n",
    "    # تدريب النموذج\n",
    "    model.fit(X_train_scaled, y_train)\n",
    "    \n",
    "    # التنبؤ\n",
    "    y_pred = model.predict(X_test_scaled)\n",
    "    y_pred_proba = model.predict_proba(X_test_scaled)[:, 1]\n",
    "    \n",
    "    # حساب المقاييس\n",
    "    accuracy = accuracy_score(y_test, y_pred)\n",
    "    precision = precision_score(y_test, y_pred)\n",
    "    recall = recall_score(y_test, y_pred)\n",
    "    f1 = f1_score(y_test, y_pred)\n",
    "    auc = roc_auc_score(y_test, y_pred_proba)\n",
    "    \n",
    "    # حساب منحنى ROC\n",
    "    fpr, tpr, _ = roc_curve(y_test, y_pred_proba)\n",
    "    \n",
    "    # حساب منحنى الدقة-الاسترجاع\n",
    "    precision_curve, recall_curve, _ = precision_recall_curve(y_test, y_pred_proba)\n",
    "    avg_precision = average_precision_score(y_test, y_pred_proba)\n",
    "    \n",
    "    # حساب مصفوفة الالتباس\n",
    "    cm = confusion_matrix(y_test, y_pred)\n",
    "    \n",
    "    # تخزين النتائج\n",
    "    models_results[name] = {\n",
    "        'model': model,\n",
    "        'y_pred': y_pred,\n",
    "        'y_pred_proba': y_pred_proba,\n",
    "        'accuracy': accuracy,\n",
    "        'precision': precision,\n",
    "        'recall': recall,\n",
    "        'f1': f1,\n",
    "        'auc': auc,\n",
    "        'confusion_matrix': cm,\n",
    "        'fpr': fpr,\n",
    "        'tpr': tpr,\n",
    "        'precision_curve': precision_curve,\n",
    "        'recall_curve': recall_curve,\n",
    "        'avg_precision': avg_precision\n",
    "    }\n",
    "    \n",
    "    # طباعة النتائج\n",
    "    print(f\"نموذج: {name}\")\n",
    "    print(f\"الدقة: {accuracy:.4f}\")\n",
    "    print(f\"الضبط: {precision:.4f}\")\n",
    "    print(f\"الاسترجاع: {recall:.4f}\")\n",
    "    print(f\"F1: {f1:.4f}\")\n",
    "    print(f\"AUC: {auc:.4f}\")\n",
    "    print(\"مصفوفة الالتباس:\")\n",
    "    print(cm)\n",
    "    print(\"=\"*50)"
   ]
  },
  {
   "cell_type": "markdown",
   "metadata": {},
   "source": [
    "## 9. مصفوفات الالتباس للنماذج"
   ]
  },
  {
   "cell_type": "code",
   "execution_count": null,
   "metadata": {},
   "outputs": [],
   "source": [
    "# عرض مصفوفات الالتباس لكل نموذج\n",
    "fig, axes = plt.subplots(2, 3, figsize=(20, 12))\n",
    "axes = axes.flatten()\n",
    "\n",
    "for i, (name, results) in enumerate(models_results.items()):\n",
    "    cm = results['confusion_matrix']\n",
    "    \n",
    "    # عرض مصفوفة الالتباس\n",
    "    sns.heatmap(\n",
    "        cm,\n",
    "        annot=True,\n",
    "        fmt='d',\n",
    "        cmap='Blues',\n",
    "        cbar=False,\n",
    "        ax=axes[i]\n",
    "    )\n",
    "    \n",
    "    axes[i].set_title(f\"مصفوفة الالتباس - {name}\")\n",
    "    axes[i].set_xlabel('القيمة المتوقعة')\n",
    "    axes[i].set_ylabel('القيمة الحقيقية')\n",
    "    axes[i].set_xticklabels(['لا يوجد مرض', 'يوجد مرض'])\n",
    "    axes[i].set_yticklabels(['لا يوجد مرض', 'يوجد مرض'])\n",
    "\n",
    "plt.tight_layout()\n",
    "plt.show()"
   ]
  },
  {
   "cell_type": "markdown",
   "metadata": {},
   "source": [
    "## 10. مقارنة أداء النماذج"
   ]
  },
  {
   "cell_type": "code",
   "execution_count": null,
   "metadata": {},
   "outputs": [],
   "source": [
    "# استخراج مقاييس الأداء\n",
    "model_names = list(models_results.keys())\n",
    "accuracy = [results['accuracy'] for results in models_results.values()]\n",
    "precision = [results['precision'] for results in models_results.values()]\n",
    "recall = [results['recall'] for results in models_results.values()]\n",
    "f1 = [results['f1'] for results in models_results.values()]\n",
    "auc = [results['auc'] for results in models_results.values()]\n",
    "\n",
    "# إنشاء مخطط المقارنة\n",
    "metrics = {\n",
    "    'النموذج': model_names * 5,\n",
    "    'المقياس': ['دقة'] * len(model_names) + ['ضبط'] * len(model_names) + ['استرجاع'] * len(model_names) + ['F1'] * len(model_names) + ['AUC'] * len(model_names),\n",
    "    'القيمة': accuracy + precision + recall + f1 + auc\n",
    "}\n",
    "\n",
    "df_metrics = pd.DataFrame(metrics)\n",
    "\n",
    "plt.figure(figsize=(14, 8))\n",
    "sns.barplot(x='النموذج', y='القيمة', hue='المقياس', data=df_metrics)\n",
    "plt.title('مقارنة أداء النماذج', fontsize=16)\n",
    "plt.ylim(0, 1)\n",
    "plt.grid(axis='y', linestyle='--', alpha=0.7)\n",
    "plt.legend(title='المقاييس')\n",
    "plt.tight_layout()\n",
    "plt.show()"
   ]
  },
  {
   "cell_type": "markdown",
   "metadata": {},
   "source": [
    "## 11. منحنيات ROC"
   ]
  },
  {
   "cell_type": "code",
   "execution_count": null,
   "metadata": {},
   "outputs": [],
   "source": [
    "# رسم منحنيات ROC\n",
    "plt.figure(figsize=(12, 8))\n",
    "\n",
    "# إضافة منحنى الخط المرجعي\n",
    "plt.plot([0, 1], [0, 1], 'k--', label='عشوائي')\n",
    "\n",
    "# إضافة منحنى لكل نموذج\n",
    "for name, results in models_results.items():\n",
    "    plt.plot(\n",
    "        results['fpr'],\n",
    "        results['tpr'],\n",
    "        label=f\"{name} (AUC={results['auc']:.3f})\"\n",
    "    )\n",
    "\n",
    "plt.xlabel('معدل الإيجابيات الكاذبة')\n",
    "plt.ylabel('معدل الإيجابيات الحقيقية')\n",
    "plt.title('منحنيات ROC', fontsize=16)\n",
    "plt.legend()\n",
    "plt.grid(alpha=0.3)\n",
    "plt.tight_layout()\n",
    "plt.show()"
   ]
  },
  {
   "cell_type": "markdown",
   "metadata": {},
   "source": [
    "## 12. تحليل أهمية المتغيرات"
   ]
  },
  {
   "cell_type": "code",
   "execution_count": null,
   "metadata": {},
   "outputs": [],
   "source": [
    "# استخراج أهمية المتغيرات من النماذج التي تدعم ذلك\n",
    "feature_importance = {}\n",
    "\n",
    "# الغابات العشوائية\n",
    "if 'الغابات العشوائية' in models_results:\n",
    "    rf_model = models_results['الغابات العشوائية']['model']\n",
    "    feature_importance['الغابات العشوائية'] = list(zip(feature_names, rf_model.feature_importances_))\n",
    "\n",
    "# تعزيز التدرج\n",
    "if 'تعزيز التدرج' in models_results:\n",
    "    gb_model = models_results['تعزيز التدرج']['model']\n",
    "    feature_importance['تعزيز التدرج'] = list(zip(feature_names, gb_model.feature_importances_))\n",
    "\n",
    "# آداببوست\n",
    "if 'آداببوست' in models_results:\n",
    "    ada_model = models_results['آداببوست']['model']\n",
    "    feature_importance['آداببوست'] = list(zip(feature_names, ada_model.feature_importances_))\n",
    "\n",
    "# الانحدار اللوجستي\n",
    "if 'الانحدار اللوجستي' in models_results:\n",
    "    lr_model = models_results['الانحدار اللوجستي']['model']\n",
    "    feature_importance['الانحدار اللوجستي'] = list(zip(feature_names, np.abs(lr_model.coef_[0])))"
   ]
  },
  {
   "cell_type": "code",
   "execution_count": null,
   "metadata": {},
   "outputs": [],
   "source": [
    "# عرض أهمية المتغيرات\n",
    "for model_name, importance in feature_importance.items():\n",
    "    # ترتيب المتغيرات حسب الأهمية\n",
    "    sorted_importance = sorted(importance, key=lambda x: x[1], reverse=True)\n",
    "    \n",
    "    # استخراج أسماء المتغيرات وقيم الأهمية\n",
    "    features = [item[0] for item in sorted_importance]\n",
    "    values = [item[1] for item in sorted_importance]\n",
    "    \n",
    "    # رسم مخطط شريطي أفقي\n",
    "    plt.figure(figsize=(10, 8))\n",
    "    bars = plt.barh(features, values)\n",
    "    \n",
    "    # تنسيق المخطط\n",
    "    plt.title(f\"أهمية المتغيرات - {model_name}\", fontsize=16)\n",
    "    plt.xlabel('الأهمية')\n",
    "    plt.ylabel('المتغير')\n",
    "    plt.grid(axis='x', linestyle='--', alpha=0.5)\n",
    "    \n",
    "    # إضافة القيم على الأشرطة\n",
    "    for bar in bars:\n",
    "        width = bar.get_width()\n",
    "        plt.text(\n",
    "            width + 0.01,\n",
    "            bar.get_y() + bar.get_height() / 2,\n",
    "            f\"{width:.3f}\",\n",
    "            va='center'\n",
    "        )\n",
    "    \n",
    "    plt.tight_layout()\n",
    "    plt.show()"
   ]
  },
  {
   "cell_type": "markdown",
   "metadata": {},
   "source": [
    "## 13. الخلاصة\n",
    "\n",
    "في هذا التحليل، قمنا بما يلي:\n",
    "\n",
    "1. تحميل واستكشاف بيانات دراسة فرامينغهام للقلب\n",
    "2. تنظيف البيانات ومعالجة القيم المفقودة\n",
    "3. إجراء تحليل بصري للبيانات باستخدام مصفوفة الارتباط والمخططات المختلفة\n",
    "4. تحضير البيانات للنمذجة وتطبيق ستة نماذج مختلفة للتعلم الآلي\n",
    "5. تقييم أداء النماذج ومقارنتها\n",
    "6. تحليل أهمية المتغيرات لفهم العوامل الأكثر تأثيراً على خطر الإصابة بأمراض القلب\n",
    "\n",
    "النماذج أظهرت أداءً جيداً مع اختلافات بسيطة فيما بينها، وتظهر النتائج أن متغيرات مثل العمر وضغط الدم والسكري وتدخين السجائر من أهم العوامل المؤثرة في التنبؤ بمخاطر الإصابة بأمراض القلب."
   ]
  }
 ],
 "metadata": {
  "kernelspec": {
   "display_name": "Python 3",
   "language": "python",
   "name": "python3"
  },
  "language_info": {
   "codemirror_mode": {
    "name": "ipython",
    "version": 3
   },
   "file_extension": ".py",
   "mimetype": "text/x-python",
   "name": "python",
   "nbconvert_exporter": "python",
   "pygments_lexer": "ipython3",
   "version": "3.11.0"
  }
 },
 "nbformat": 4,
 "nbformat_minor": 2
}